{
  "cells": [
    {
      "cell_type": "markdown",
      "metadata": {
        "id": "8H7RH_vFs2Zv"
      },
      "source": [
        "# Import some packages"
      ]
    },
    {
      "cell_type": "code",
      "execution_count": 1,
      "metadata": {
        "id": "SnbU9mTUszSJ"
      },
      "outputs": [],
      "source": [
        "import numpy as np\n",
        "import pandas as pd\n",
        "import pandas as pd\n",
        "import shutil\n",
        "import time\n",
        "from copy import deepcopy\n",
        "\n",
        "device = 'cuda'\n",
        "import torchvision.models as models"
      ]
    },
    {
      "cell_type": "code",
      "execution_count": 2,
      "metadata": {
        "id": "ch0JXJxIuOqT"
      },
      "outputs": [],
      "source": [
        "import torch\n",
        "import torch.nn as nn\n",
        "import torch.nn.functional as F\n",
        "\n",
        "import torchvision\n",
        "import torchvision.transforms as transforms\n",
        "from torch.utils.data import random_split"
      ]
    },
    {
      "cell_type": "markdown",
      "metadata": {
        "id": "Vb5R3is5s6E4"
      },
      "source": [
        "# Load data"
      ]
    },
    {
      "cell_type": "code",
      "execution_count": 3,
      "metadata": {
        "colab": {
          "base_uri": "https://localhost:8080/",
          "height": 430
        },
        "id": "IHDDgYygs1hn",
        "outputId": "a70d9dd0-ca61-4385-f721-c75903273cdf"
      },
      "outputs": [
        {
          "name": "stdout",
          "output_type": "stream",
          "text": [
            "Train dataframe has shape: (31390, 5)\n",
            "Test dataframe has shape: (2413, 4)\n"
          ]
        },
        {
          "data": {
            "text/html": [
              "<div>\n",
              "<style scoped>\n",
              "    .dataframe tbody tr th:only-of-type {\n",
              "        vertical-align: middle;\n",
              "    }\n",
              "\n",
              "    .dataframe tbody tr th {\n",
              "        vertical-align: top;\n",
              "    }\n",
              "\n",
              "    .dataframe thead th {\n",
              "        text-align: right;\n",
              "    }\n",
              "</style>\n",
              "<table border=\"1\" class=\"dataframe\">\n",
              "  <thead>\n",
              "    <tr style=\"text-align: right;\">\n",
              "      <th></th>\n",
              "      <th>seq_id</th>\n",
              "      <th>protein_sequence</th>\n",
              "      <th>pH</th>\n",
              "      <th>data_source</th>\n",
              "      <th>tm</th>\n",
              "    </tr>\n",
              "  </thead>\n",
              "  <tbody>\n",
              "    <tr>\n",
              "      <th>0</th>\n",
              "      <td>0</td>\n",
              "      <td>AAAAKAAALALLGEAPEVVDIWLPAGWRQPFRVFRLERKGDGVLVG...</td>\n",
              "      <td>7.0</td>\n",
              "      <td>doi.org/10.1038/s41592-020-0801-4</td>\n",
              "      <td>75.7</td>\n",
              "    </tr>\n",
              "    <tr>\n",
              "      <th>1</th>\n",
              "      <td>1</td>\n",
              "      <td>AAADGEPLHNEEERAGAGQVGRSLPQESEEQRTGSRPRRRRDLGSR...</td>\n",
              "      <td>7.0</td>\n",
              "      <td>doi.org/10.1038/s41592-020-0801-4</td>\n",
              "      <td>50.5</td>\n",
              "    </tr>\n",
              "    <tr>\n",
              "      <th>2</th>\n",
              "      <td>2</td>\n",
              "      <td>AAAFSTPRATSYRILSSAGSGSTRADAPQVRRLHTTRDLLAKDYYA...</td>\n",
              "      <td>7.0</td>\n",
              "      <td>doi.org/10.1038/s41592-020-0801-4</td>\n",
              "      <td>40.5</td>\n",
              "    </tr>\n",
              "    <tr>\n",
              "      <th>3</th>\n",
              "      <td>3</td>\n",
              "      <td>AAASGLRTAIPAQPLRHLLQPAPRPCLRPFGLLSVRAGSARRSGLL...</td>\n",
              "      <td>7.0</td>\n",
              "      <td>doi.org/10.1038/s41592-020-0801-4</td>\n",
              "      <td>47.2</td>\n",
              "    </tr>\n",
              "    <tr>\n",
              "      <th>4</th>\n",
              "      <td>4</td>\n",
              "      <td>AAATKSGPRRQSQGASVRTFTPFYFLVEPVDTLSVRGSSVILNCSA...</td>\n",
              "      <td>7.0</td>\n",
              "      <td>doi.org/10.1038/s41592-020-0801-4</td>\n",
              "      <td>49.5</td>\n",
              "    </tr>\n",
              "  </tbody>\n",
              "</table>\n",
              "</div>"
            ],
            "text/plain": [
              "   seq_id                                   protein_sequence   pH  \\\n",
              "0       0  AAAAKAAALALLGEAPEVVDIWLPAGWRQPFRVFRLERKGDGVLVG...  7.0   \n",
              "1       1  AAADGEPLHNEEERAGAGQVGRSLPQESEEQRTGSRPRRRRDLGSR...  7.0   \n",
              "2       2  AAAFSTPRATSYRILSSAGSGSTRADAPQVRRLHTTRDLLAKDYYA...  7.0   \n",
              "3       3  AAASGLRTAIPAQPLRHLLQPAPRPCLRPFGLLSVRAGSARRSGLL...  7.0   \n",
              "4       4  AAATKSGPRRQSQGASVRTFTPFYFLVEPVDTLSVRGSSVILNCSA...  7.0   \n",
              "\n",
              "                         data_source    tm  \n",
              "0  doi.org/10.1038/s41592-020-0801-4  75.7  \n",
              "1  doi.org/10.1038/s41592-020-0801-4  50.5  \n",
              "2  doi.org/10.1038/s41592-020-0801-4  40.5  \n",
              "3  doi.org/10.1038/s41592-020-0801-4  47.2  \n",
              "4  doi.org/10.1038/s41592-020-0801-4  49.5  "
            ]
          },
          "metadata": {},
          "output_type": "display_data"
        },
        {
          "data": {
            "text/html": [
              "<div>\n",
              "<style scoped>\n",
              "    .dataframe tbody tr th:only-of-type {\n",
              "        vertical-align: middle;\n",
              "    }\n",
              "\n",
              "    .dataframe tbody tr th {\n",
              "        vertical-align: top;\n",
              "    }\n",
              "\n",
              "    .dataframe thead th {\n",
              "        text-align: right;\n",
              "    }\n",
              "</style>\n",
              "<table border=\"1\" class=\"dataframe\">\n",
              "  <thead>\n",
              "    <tr style=\"text-align: right;\">\n",
              "      <th></th>\n",
              "      <th>seq_id</th>\n",
              "      <th>protein_sequence</th>\n",
              "      <th>pH</th>\n",
              "      <th>data_source</th>\n",
              "    </tr>\n",
              "  </thead>\n",
              "  <tbody>\n",
              "    <tr>\n",
              "      <th>0</th>\n",
              "      <td>31390</td>\n",
              "      <td>VPVNPEPDATSVENVAEKTGSGDSQSDPIKADLEVKGQSALPFDVD...</td>\n",
              "      <td>8</td>\n",
              "      <td>Novozymes</td>\n",
              "    </tr>\n",
              "    <tr>\n",
              "      <th>1</th>\n",
              "      <td>31391</td>\n",
              "      <td>VPVNPEPDATSVENVAKKTGSGDSQSDPIKADLEVKGQSALPFDVD...</td>\n",
              "      <td>8</td>\n",
              "      <td>Novozymes</td>\n",
              "    </tr>\n",
              "    <tr>\n",
              "      <th>2</th>\n",
              "      <td>31392</td>\n",
              "      <td>VPVNPEPDATSVENVAKTGSGDSQSDPIKADLEVKGQSALPFDVDC...</td>\n",
              "      <td>8</td>\n",
              "      <td>Novozymes</td>\n",
              "    </tr>\n",
              "    <tr>\n",
              "      <th>3</th>\n",
              "      <td>31393</td>\n",
              "      <td>VPVNPEPDATSVENVALCTGSGDSQSDPIKADLEVKGQSALPFDVD...</td>\n",
              "      <td>8</td>\n",
              "      <td>Novozymes</td>\n",
              "    </tr>\n",
              "    <tr>\n",
              "      <th>4</th>\n",
              "      <td>31394</td>\n",
              "      <td>VPVNPEPDATSVENVALFTGSGDSQSDPIKADLEVKGQSALPFDVD...</td>\n",
              "      <td>8</td>\n",
              "      <td>Novozymes</td>\n",
              "    </tr>\n",
              "  </tbody>\n",
              "</table>\n",
              "</div>"
            ],
            "text/plain": [
              "   seq_id                                   protein_sequence  pH data_source\n",
              "0   31390  VPVNPEPDATSVENVAEKTGSGDSQSDPIKADLEVKGQSALPFDVD...   8   Novozymes\n",
              "1   31391  VPVNPEPDATSVENVAKKTGSGDSQSDPIKADLEVKGQSALPFDVD...   8   Novozymes\n",
              "2   31392  VPVNPEPDATSVENVAKTGSGDSQSDPIKADLEVKGQSALPFDVDC...   8   Novozymes\n",
              "3   31393  VPVNPEPDATSVENVALCTGSGDSQSDPIKADLEVKGQSALPFDVD...   8   Novozymes\n",
              "4   31394  VPVNPEPDATSVENVALFTGSGDSQSDPIKADLEVKGQSALPFDVD...   8   Novozymes"
            ]
          },
          "metadata": {},
          "output_type": "display_data"
        }
      ],
      "source": [
        "train_df = pd.read_csv(\"../data/kaggle/train.csv\")\n",
        "test_df = pd.read_csv(\"../data/kaggle/test.csv\")\n",
        "print(f\"Train dataframe has shape: {train_df.shape}\")\n",
        "print(f\"Test dataframe has shape: {test_df.shape}\")\n",
        "display(train_df.head())\n",
        "display(test_df.head())"
      ]
    },
    {
      "cell_type": "markdown",
      "metadata": {
        "id": "gV_KtiL0y60d"
      },
      "source": [
        "# Transforming \n",
        "This will convert each protein sequence (a list of amino acids) to a matrix, where each row is the physical and chemical properties of the corresponding amino acid"
      ]
    },
    {
      "cell_type": "code",
      "execution_count": 4,
      "metadata": {
        "id": "GEs8Mkkxy7Ct"
      },
      "outputs": [],
      "source": [
        "df_aa = pd.read_csv(\"../data/aminoacids.csv\")\n",
        "transform_dict = {}\n",
        "\"\"\"\n",
        "0 = Name (Ignore)\n",
        "1 = Abbr (Ignore)\n",
        "2 = Letter\n",
        "3 = Molecular Weight\n",
        "4 = Molecular Formula (Ignore)\n",
        "5 = Residue Formula (Ignore)\n",
        "6 = Residue Weight \n",
        "7 = pKa1 -> positively correlated to polarity\n",
        "8 = pKb2 -> positively correlated to polarity\n",
        "9 = pKx3 -> positively correlated to polarity\n",
        "10 = pl4\n",
        "11 = H\n",
        "12 = VSC\n",
        "13 = P1\n",
        "14 = P2\n",
        "15 = SASA\n",
        "16 = NCISC\n",
        "17 = carbon\n",
        "18 = hydrogen\n",
        "19 = nitrogen\n",
        "20 = oxygen\n",
        "21 = sulfur\n",
        "\"\"\"\n",
        "feature_list = [3, 6, 7, 8, 9, 10, 11, 12, 13, 14, 15, 16, 17, 18, 19, 20]\n",
        "df_aa.iloc[:, feature_list] = (df_aa.iloc[:, feature_list] - df_aa.iloc[:, feature_list].mean()) / df_aa.iloc[:, feature_list].std()\n",
        "df_aa = df_aa.fillna(0)"
      ]
    },
    {
      "cell_type": "code",
      "execution_count": 5,
      "metadata": {
        "id": "-T69jmGGQ5gb"
      },
      "outputs": [],
      "source": [
        "# feature_list chooses which physical and chemical properties to inlcude\n",
        "def getTransformDict(feature_list = [3, 6, 7, 8, 10, 11, 12, 13, 14, 15, 16, 17, 18, 19, 20]):\n",
        "  transform_dict = {}\n",
        "  for index, row in df_aa.iterrows():\n",
        "    row_values = row.values\n",
        "    letter = row_values[2]\n",
        "    the_rest = [row_values[i] for i in feature_list]\n",
        "    transform_dict.update({letter: np.array(the_rest, dtype=\"float\")})\n",
        "  transform_dict.update({None: np.zeros(shape=len(feature_list),dtype=\"float\")})\n",
        "  return transform_dict"
      ]
    },
    {
      "cell_type": "code",
      "execution_count": 6,
      "metadata": {
        "id": "yC_WsPAOj6Fx"
      },
      "outputs": [],
      "source": [
        "# convert list of amino acids into a matrix of their corresponding physical and chemical properties\n",
        "def convertSequences(sequences, MAX_LENGTH, transform_dict=None):\n",
        "  if transform_dict is None:\n",
        "    transform_dict = getTransformDict()\n",
        "  sequenceList = []\n",
        "  for sequence in sequences:\n",
        "    letterMatrix = []\n",
        "    for i in range(MAX_LENGTH):\n",
        "      if i < len(sequence):\n",
        "        letterMatrix.append(transform_dict[sequence[i]])\n",
        "      else:\n",
        "        letterMatrix.append(transform_dict[None])\n",
        "    sequenceList.append(np.array(letterMatrix))\n",
        "  return sequenceList"
      ]
    },
    {
      "cell_type": "code",
      "execution_count": 7,
      "metadata": {
        "id": "S__uwGT1SXxZ"
      },
      "outputs": [],
      "source": [
        "def getSequences(df, MAX_LENGTH=224):\n",
        "  df.reset_index(inplace=True)\n",
        "  sequences = [list(string) for string in df[\"protein_sequence\"].values.tolist()]\n",
        "  return convertSequences(sequences, MAX_LENGTH)"
      ]
    },
    {
      "cell_type": "code",
      "execution_count": 8,
      "metadata": {},
      "outputs": [],
      "source": [
        "def filterDataFrame(df, MIN_LENGTH=100, MAX_LENGTH=224):\n",
        "    df[\"protein_sequence_len\"] = df[\"protein_sequence\"].apply(lambda x: len(x))\n",
        "    df = df[df[\"protein_sequence_len\"] <= MAX_LENGTH]\n",
        "    df = df[df[\"protein_sequence_len\"] >= MIN_LENGTH]\n",
        "    if 'tm' in df:\n",
        "        df['tm'] = (df['tm'] - df['tm'].mean())/df['tm'].std()\n",
        "    return df"
      ]
    },
    {
      "cell_type": "code",
      "execution_count": 9,
      "metadata": {
        "colab": {
          "base_uri": "https://localhost:8080/"
        },
        "id": "8KwLOvwnSYeB",
        "outputId": "6c881c06-65ac-44c2-a0cc-4c8942d8671f"
      },
      "outputs": [
        {
          "name": "stdout",
          "output_type": "stream",
          "text": [
            "6201\n"
          ]
        }
      ],
      "source": [
        "from sklearn.model_selection import train_test_split\n",
        "\n",
        "MAX_LENGTH = 224\n",
        "MIN_LENGTH = 100\n",
        "train_df = filterDataFrame(train_df, MIN_LENGTH=MIN_LENGTH, MAX_LENGTH=MAX_LENGTH)\n",
        "X = getSequences(train_df, MAX_LENGTH=MAX_LENGTH)\n",
        "y = train_df['tm'].values\n",
        "\n",
        "X_train, X_val, y_train, y_val = train_test_split(X, y, test_size=0.2, random_state=42)\n",
        "print(len(X_train))"
      ]
    },
    {
      "cell_type": "code",
      "execution_count": 10,
      "metadata": {
        "id": "Fjf8H6oIzIBf"
      },
      "outputs": [],
      "source": [
        "test_df = filterDataFrame(test_df, MIN_LENGTH=MIN_LENGTH, MAX_LENGTH=MAX_LENGTH)\n",
        "X_test = getSequences(test_df)"
      ]
    },
    {
      "cell_type": "markdown",
      "metadata": {
        "id": "yXeUyLLbvu1X"
      },
      "source": [
        "## Loading and normalizing"
      ]
    },
    {
      "cell_type": "code",
      "execution_count": 11,
      "metadata": {
        "id": "BKEGX6n1Tc_J"
      },
      "outputs": [],
      "source": [
        "def toTensor(array):\n",
        "    tensor = torch.Tensor(np.array(array))\n",
        "    return tensor.view(tensor.size(dim=0), 1, tensor.size(dim=1), tensor.size(dim=2))"
      ]
    },
    {
      "cell_type": "code",
      "execution_count": 12,
      "metadata": {
        "id": "437QWKVNvxA0"
      },
      "outputs": [],
      "source": [
        "import tensorflow as tf\n",
        "from torch.utils.data import TensorDataset, DataLoader\n",
        "trainset = TensorDataset(toTensor(X_train), torch.Tensor(y_train))\n",
        "valset = TensorDataset(toTensor(X_val), torch.Tensor(y_val))\n",
        "testset = TensorDataset(toTensor(X_test))\n",
        "\n",
        "#TODO: revise batch_size\n",
        "BATCH_SIZE = 32\n",
        "trainloader = torch.utils.data.DataLoader(trainset, batch_size=BATCH_SIZE, shuffle=True, num_workers=2)\n",
        "valloader = torch.utils.data.DataLoader(valset, batch_size=BATCH_SIZE, shuffle=True, num_workers=2)\n",
        "testloader = torch.utils.data.DataLoader(testset, batch_size=BATCH_SIZE, shuffle=False, num_workers=2)"
      ]
    },
    {
      "cell_type": "markdown",
      "metadata": {
        "id": "9RtJFoa1vatc"
      },
      "source": [
        "# Define the model"
      ]
    },
    {
      "cell_type": "code",
      "execution_count": 13,
      "metadata": {
        "id": "lS7FzyrY7gDt"
      },
      "outputs": [],
      "source": [
        "class Net(nn.Module):\n",
        "    def __init__(self):\n",
        "        super(Net, self).__init__()\n",
        "        self.layer1 = nn.Sequential(\n",
        "            nn.Conv2d(1, 32, kernel_size=3),\n",
        "            nn.BatchNorm2d(32),\n",
        "            nn.ReLU(),\n",
        "            nn.MaxPool2d(kernel_size=2),\n",
        "        )\n",
        "        self.layer2 = nn.Sequential(\n",
        "            nn.Conv2d(32, 64, kernel_size=3),\n",
        "            nn.BatchNorm2d(64),\n",
        "            nn.ReLU(),\n",
        "            nn.MaxPool2d(kernel_size=2),\n",
        "        )\n",
        "        self.fc1 = nn.Sequential(\n",
        "            nn.Dropout(0.1),\n",
        "            nn.Linear(64 * 108, 512),\n",
        "            nn.BatchNorm1d(512),\n",
        "            nn.ReLU(),\n",
        "        )\n",
        "        self.fc2 = nn.Sequential(\n",
        "            nn.Linear(512, 512),\n",
        "            nn.BatchNorm1d(512),\n",
        "            nn.ReLU(),\n",
        "        )\n",
        "        self.fc3 = nn.Sequential(\n",
        "            nn.Linear(512, 1),\n",
        "        )\n",
        "\n",
        "    def forward(self, x):\n",
        "        x = self.layer1(x)\n",
        "        x = self.layer2(x)\n",
        "        x = x.view(x.size(0), -1)\n",
        "        x = self.fc1(x)\n",
        "        x = self.fc2(x)\n",
        "        x = self.fc3(x)\n",
        "        return x.squeeze()"
      ]
    },
    {
      "cell_type": "code",
      "execution_count": 14,
      "metadata": {
        "id": "cwIBVVm0vG5Z"
      },
      "outputs": [],
      "source": [
        "model = Net().to(device)"
      ]
    },
    {
      "cell_type": "code",
      "execution_count": 15,
      "metadata": {
        "id": "vGWMpcv_uJ6K"
      },
      "outputs": [],
      "source": [
        "import torch.optim as optim\n",
        "\n",
        "criterion = nn.MSELoss()\n",
        "optimizer = optim.Adam(model.parameters(), lr=0.0001, weight_decay=1e-5)\n",
        "lr_scheduler = optim.lr_scheduler.StepLR(optimizer, step_size=5, gamma=0.7)"
      ]
    },
    {
      "cell_type": "markdown",
      "metadata": {
        "id": "13NHIdD_l3TY"
      },
      "source": [
        "# Define the Training Functions"
      ]
    },
    {
      "cell_type": "code",
      "execution_count": 17,
      "metadata": {
        "id": "B_na7Z2ivUnN"
      },
      "outputs": [
        {
          "name": "stdout",
          "output_type": "stream",
          "text": [
            "Epoch [ 1 / 10]: Train loss = 0.015152902602957171      Val Loss = 0.14922022973625082      \n",
            "Epoch [ 2 / 10]: Train loss = 0.01432430521170375       Val Loss = 0.15031680601643171      \n",
            "Epoch [ 3 / 10]: Train loss = 0.013832474827593401      Val Loss = 0.14911122135922683      \n",
            "Epoch [ 4 / 10]: Train loss = 0.01270610557373753       Val Loss = 0.1473412437999071       \n",
            "Epoch [ 5 / 10]: Train loss = 0.01286203486412653       Val Loss = 0.1494170181233911       \n",
            "Epoch [ 6 / 10]: Train loss = 0.012389552592510294      Val Loss = 0.14633468106520187      \n",
            "Epoch [ 7 / 10]: Train loss = 0.012239192289712833      Val Loss = 0.1468232397523724       \n",
            "Epoch [ 8 / 10]: Train loss = 0.012152222549121353      Val Loss = 0.1451650533159102       \n",
            "Epoch [ 9 / 10]: Train loss = 0.011975279549180913      Val Loss = 0.14780657672365125      \n",
            "Epoch [10 / 10]: Train loss = 0.011923050991211605      Val Loss = 0.14402597098297826      \n",
            "Finished Training\n",
            "Wall time: 1min 7s\n"
          ]
        }
      ],
      "source": [
        "%%time\n",
        "best_val_loss = 100000\n",
        "best_val_model = None\n",
        "MAX_EPOCH = 10\n",
        "loss_record = {'train': [], 'dev': []} # added\n",
        "for epoch in range(MAX_EPOCH):  \n",
        "    model.train()\n",
        "    running_train_loss = 0.0\n",
        "    for i, data in enumerate(trainloader, 0):\n",
        "        inputs, labels = data\n",
        "        inputs, labels = inputs.cuda(), labels.cuda()\n",
        "\n",
        "        optimizer.zero_grad()\n",
        "        outputs = model(inputs)\n",
        "        # outputs = outputs.view(outputs.size(dim=0))\n",
        "        loss = criterion(outputs, labels)\n",
        "        loss.backward()\n",
        "        optimizer.step()\n",
        "\n",
        "        # print statistics\n",
        "        running_train_loss += loss.sum().item()\n",
        "        out = outputs.detach()\n",
        "        assert out.shape == labels.shape\n",
        "        \n",
        "    loss_record['train'].append(running_train_loss/len(trainset))\n",
        "    \n",
        "    model.eval()\n",
        "    running_val_loss = 0.0\n",
        "    with torch.no_grad():\n",
        "        for inputs,labels in valloader:\n",
        "            out = model(inputs.cuda()).cpu()\n",
        "            out = out.detach()\n",
        "            running_val_loss += (torch.pow(out - labels, 2).sum().item()) ** 0.5\n",
        "    loss_record['dev'].append(running_val_loss/len(valset))\n",
        "    print(\"Epoch [{:>2} / {}]: Train loss = {:<25} Val Loss = {:<25}\".format(epoch+1, MAX_EPOCH, running_train_loss/len(trainset), running_val_loss/len(valset)))\n",
        "    if running_val_loss < best_val_loss:\n",
        "        best_val_loss = running_val_loss\n",
        "        best_val_model = deepcopy(model.state_dict())\n",
        "    lr_scheduler.step()\n",
        "    \n",
        "print('Finished Training')"
      ]
    },
    {
      "cell_type": "code",
      "execution_count": 18,
      "metadata": {
        "id": "DHCYVWq4yTMc"
      },
      "outputs": [],
      "source": [
        "# For plotting\n",
        "import matplotlib.pyplot as plt\n",
        "from matplotlib.pyplot import figure\n",
        "import math"
      ]
    },
    {
      "cell_type": "code",
      "execution_count": 19,
      "metadata": {
        "id": "m9R0_e7zyNqW"
      },
      "outputs": [],
      "source": [
        "def plot_learning_curve(record, title=''):\n",
        "    ''' Plot learning curve of your DNN (train & dev loss) '''\n",
        "    x_1 = range(len(record['train']))\n",
        "    x_2 = range(len(record['dev']))\n",
        "    figure(figsize=(6, 4))\n",
        "    plt.plot(x_1, record['train'], c='tab:red', label='train')\n",
        "    plt.plot(x_2, record['dev'], c='tab:cyan', label='dev')\n",
        "    \n",
        "    # TODO: feel free to change this range to see the learning curve better\n",
        "    y_min = min(min(record['train']), min(record['dev']))\n",
        "    y_max = max(max(record['train']), max(record['dev']))\n",
        "    plt.ylim(max(.95*y_min-0.01, 0), 1.05*y_max+0.01)\n",
        "    plt.xlabel('Epochs')\n",
        "    plt.ylabel('Loss')\n",
        "    plt.title('Learning curve of {}'.format(title))\n",
        "    plt.legend()\n",
        "    plt.show()"
      ]
    },
    {
      "cell_type": "code",
      "execution_count": 20,
      "metadata": {
        "id": "NIxuqeityv1U"
      },
      "outputs": [
        {
          "data": {
            "image/png": "[encoded data removed]",
            "text/plain": [
              "<Figure size 600x400 with 1 Axes>"
            ]
          },
          "metadata": {},
          "output_type": "display_data"
        }
      ],
      "source": [
        "plot_learning_curve(loss_record, title=\"CNN model\")"
      ]
    },
    {
      "cell_type": "code",
      "execution_count": 27,
      "metadata": {
        "id": "aF9S5RIglvW2"
      },
      "outputs": [
        {
          "name": "stdout",
          "output_type": "stream",
          "text": [
            "Wall time: 2.09 s\n"
          ]
        }
      ],
      "source": [
        "%%time\n",
        "preds = []\n",
        "model.load_state_dict(best_val_model)\n",
        "model.eval()\n",
        "with torch.no_grad():\n",
        "    for inputs in testloader:\n",
        "        inputs = inputs[0]\n",
        "        out = model(inputs.cuda()).cpu()\n",
        "        preds.append(out.detach().cpu())\n",
        "preds = torch.cat(preds, dim=0).numpy()"
      ]
    },
    {
      "cell_type": "code",
      "execution_count": null,
      "metadata": {},
      "outputs": [],
      "source": [
        "def make_prediction(preds, file):\n",
        "    print(f'Saving results to {file}')\n",
        "    submission = pd.read_csv(\"../data/kaggle/sample_submission.csv\")\n",
        "    submission[\"tm\"] = preds\n",
        "    submission.to_csv(file, index=False)\n",
        "\n",
        "make_prediction(preds, file=\"pred.csv\")"
      ]
    },
    {
      "cell_type": "markdown",
      "metadata": {},
      "source": [
        "# Combine\n",
        "Combine HoltryNet2d with top public solutions"
      ]
    },
    {
      "cell_type": "code",
      "execution_count": null,
      "metadata": {},
      "outputs": [],
      "source": [
        "from scipy.stats import rankdata\n",
        "\n",
        "def ranked(f):\n",
        "    return rankdata(pd.read_csv(f).tm)\n",
        "\n",
        "# KaggleScore, DataSource\n",
        "DataSets = [\n",
        "    [0.393, '../submissions/rmsd-from-molecular-dynamics/submission_rmsd.csv'],\n",
        "    [0.179, 'pred.csv'],\n",
        "    [0.428, '../submissions/plldt-ddg-demask-sasa/deepddg-ddg.csv'],\n",
        "    [0.451, '../submissions/novo-esp-eli5-performant-approaches-lb-0-451/submission.csv'],\n",
        "    [0.407, '../submissions/nesp-alphafold-getarea-exploration/submission.csv'],\n",
        "    [0.471, '../submissions/nesp-relaxed-rosetta-scores/submission_rosetta_scores.csv'],\n",
        "]\n",
        "pred = 0\n",
        "# weighting each submission by its kaggle score\n",
        "for i in range(len(DataSets)):\n",
        "    pred += DataSets[i][0] * ranked(DataSets[i][1])\n",
        "\n",
        "make_prediction(pred, \"ensemble_submission.csv\")\n",
        "!head ensemble_submission.csv"
      ]
    }
  ],
  "metadata": {
    "accelerator": "GPU",
    "colab": {
      "provenance": []
    },
    "gpuClass": "standard",
    "kernelspec": {
      "display_name": "Python 3.9.13 ('base')",
      "language": "python",
      "name": "python3"
    },
    "language_info": {
      "codemirror_mode": {
        "name": "ipython",
        "version": 3
      },
      "file_extension": ".py",
      "mimetype": "text/x-python",
      "name": "python",
      "nbconvert_exporter": "python",
      "pygments_lexer": "ipython3",
      "version": "3.9.13"
    },
    "vscode": {
      "interpreter": {
        "hash": "b70492cf92a1f78fc18b7684d71bbc4f8886ffb7e78a5e47686b46a1a93e069b"
      }
    }
  },
  "nbformat": 4,
  "nbformat_minor": 0
}
