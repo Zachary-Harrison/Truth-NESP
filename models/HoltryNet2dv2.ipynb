{
  "cells": [
    {
      "cell_type": "markdown",
      "metadata": {
        "id": "8H7RH_vFs2Zv"
      },
      "source": [
        "# Import some packages"
      ]
    },
    {
      "cell_type": "code",
      "execution_count": 520,
      "metadata": {
        "id": "SnbU9mTUszSJ"
      },
      "outputs": [],
      "source": [
        "import os\n",
        "import numpy as np\n",
        "import pandas as pd\n",
        "import pandas as pd\n",
        "import shutil\n",
        "import time\n",
        "from copy import deepcopy\n",
        "\n",
        "device = 'cuda'\n",
        "import torchvision.models as models\n",
        "from tqdm.notebook import tqdm"
      ]
    },
    {
      "cell_type": "code",
      "execution_count": 521,
      "metadata": {
        "id": "ch0JXJxIuOqT"
      },
      "outputs": [],
      "source": [
        "import torch\n",
        "import torch.nn as nn\n",
        "import torch.nn.functional as F\n",
        "\n",
        "import torchvision\n",
        "import torchvision.transforms as transforms\n",
        "from torch.utils.data import random_split"
      ]
    },
    {
      "cell_type": "markdown",
      "metadata": {
        "id": "Vb5R3is5s6E4"
      },
      "source": [
        "# Load data"
      ]
    },
    {
      "cell_type": "code",
      "execution_count": 523,
      "metadata": {},
      "outputs": [],
      "source": [
        "train_df = pd.read_csv(\"../data/nesp-9936-unique-mutations-voxel-features/dataset.csv\")\n",
        "test_df = pd.read_csv(\"../data/kaggle/test.csv\")\n",
        "test_df.rename(columns={'protein_sequence': 'sequence'}, inplace=True)"
      ]
    },
    {
      "cell_type": "markdown",
      "metadata": {
        "id": "gV_KtiL0y60d"
      },
      "source": [
        "# Transforming \n",
        "This will convert each protein sequence (a list of amino acids) to a matrix, where each row is the physical and chemical properties of the corresponding amino acid"
      ]
    },
    {
      "cell_type": "code",
      "execution_count": 524,
      "metadata": {
        "id": "GEs8Mkkxy7Ct"
      },
      "outputs": [],
      "source": [
        "df_aa = pd.read_csv(\"../data/aminoacids.csv\")\n",
        "transform_dict = {}\n",
        "\"\"\"\n",
        "0 = Name (Ignore)\n",
        "1 = Abbr (Ignore)\n",
        "2 = Letter\n",
        "3 = Molecular Weight\n",
        "4 = Molecular Formula (Ignore)\n",
        "5 = Residue Formula (Ignore)\n",
        "6 = Residue Weight \n",
        "7 = pKa1 -> positively correlated to polarity\n",
        "8 = pKb2 -> positively correlated to polarity\n",
        "9 = pKx3 -> positively correlated to polarity\n",
        "10 = pl4\n",
        "11 = H\n",
        "12 = VSC\n",
        "13 = P1\n",
        "14 = P2\n",
        "15 = SASA\n",
        "16 = NCISC\n",
        "17 = carbon\n",
        "18 = hydrogen\n",
        "19 = nitrogen\n",
        "20 = oxygen\n",
        "21 = sulfur\n",
        "\"\"\"\n",
        "feature_list = [3, 6, 7, 8, 9, 10, 11, 12, 13, 14, 15, 16, 17, 18, 19, 20]\n",
        "df_aa.iloc[:, feature_list] = (df_aa.iloc[:, feature_list] - df_aa.iloc[:, feature_list].mean()) / df_aa.iloc[:, feature_list].std()\n",
        "df_aa = df_aa.fillna(0)"
      ]
    },
    {
      "cell_type": "code",
      "execution_count": 525,
      "metadata": {
        "id": "-T69jmGGQ5gb"
      },
      "outputs": [],
      "source": [
        "# feature_list chooses which physical and chemical properties to inlcude\n",
        "def getTransformDict(feature_list = [3, 6, 7, 8, 10, 11, 12, 13, 14, 15, 16, 17, 18, 19, 20]):\n",
        "  transform_dict = {}\n",
        "  for index, row in df_aa.iterrows():\n",
        "    row_values = row.values\n",
        "    letter = row_values[2]\n",
        "    the_rest = [row_values[i] for i in feature_list]\n",
        "    transform_dict.update({letter: np.array(the_rest, dtype=\"float\")})\n",
        "  transform_dict.update({None: np.zeros(shape=len(feature_list),dtype=\"float\")})\n",
        "  transform_dict.update({'X': np.zeros(shape=len(feature_list),dtype=\"float\")})\n",
        "  return transform_dict"
      ]
    },
    {
      "cell_type": "code",
      "execution_count": 526,
      "metadata": {
        "id": "yC_WsPAOj6Fx"
      },
      "outputs": [],
      "source": [
        "# convert list of amino acids into a matrix of their corresponding physical and chemical properties\n",
        "def convertSequences(sequences, MAX_LENGTH, transform_dict=None):\n",
        "  if transform_dict is None:\n",
        "    transform_dict = getTransformDict()\n",
        "  sequenceList = []\n",
        "  # print(sequences)\n",
        "  for sequence in sequences:\n",
        "    letterMatrix = []\n",
        "    for i in range(MAX_LENGTH):\n",
        "      if i < len(sequence):\n",
        "        letterMatrix.append(transform_dict[sequence[i]])\n",
        "      else:\n",
        "        letterMatrix.append(transform_dict[None])\n",
        "    sequenceList.append(np.array(letterMatrix))\n",
        "  return sequenceList"
      ]
    },
    {
      "cell_type": "code",
      "execution_count": 527,
      "metadata": {
        "id": "S__uwGT1SXxZ"
      },
      "outputs": [],
      "source": [
        "def getSequences(df, MAX_LENGTH=224):\n",
        "  # df.reset_index(inplace=True)\n",
        "  sequences = [list(string) for string in df[\"sequence\"].values.tolist()]\n",
        "  return convertSequences(sequences, MAX_LENGTH)"
      ]
    },
    {
      "cell_type": "code",
      "execution_count": 528,
      "metadata": {},
      "outputs": [],
      "source": [
        "def filterDataFrame(df, MIN_LENGTH=100, MAX_LENGTH=224):\n",
        "    df[\"protein_sequence_len\"] = df[\"sequence\"].apply(lambda x: len(x))\n",
        "    df = df[df[\"protein_sequence_len\"] <= MAX_LENGTH]\n",
        "    df = df[df[\"protein_sequence_len\"] >= MIN_LENGTH]\n",
        "    if 'dT' in df:\n",
        "        print(\"Standardizing dT\")\n",
        "        df['dT'] = (df['dT'] - df['dT'].mean())/df['dT'].std()\n",
        "    if 'ddG' in df:\n",
        "        print(\"Standardizing ddG\")\n",
        "        df['ddG'] = (df['ddG'] - df['ddG'].mean())/df['ddG'].std()\n",
        "    return df"
      ]
    },
    {
      "cell_type": "code",
      "execution_count": 529,
      "metadata": {
        "colab": {
          "base_uri": "https://localhost:8080/"
        },
        "id": "8KwLOvwnSYeB",
        "outputId": "6c881c06-65ac-44c2-a0cc-4c8942d8671f"
      },
      "outputs": [
        {
          "name": "stdout",
          "output_type": "stream",
          "text": [
            "Standardizing dT\n",
            "Standardizing ddG\n",
            "(5205, 12)\n"
          ]
        }
      ],
      "source": [
        "from sklearn.model_selection import train_test_split\n",
        "\n",
        "MAX_LENGTH = 224\n",
        "MIN_LENGTH = 100\n",
        "train_df = filterDataFrame(train_df, MIN_LENGTH=MIN_LENGTH, MAX_LENGTH=MAX_LENGTH)\n",
        "print(train_df.shape)\n",
        "X = getSequences(train_df, MAX_LENGTH=MAX_LENGTH)\n",
        "y = train_df[['ddG', 'dT']].values\n",
        "\n",
        "\n",
        "X_train, X_val, y_train, y_val = train_test_split(X, y, test_size=0.2, random_state=42)"
      ]
    },
    {
      "cell_type": "code",
      "execution_count": 530,
      "metadata": {
        "id": "Fjf8H6oIzIBf"
      },
      "outputs": [],
      "source": [
        "test_df = filterDataFrame(test_df, MIN_LENGTH=MIN_LENGTH, MAX_LENGTH=MAX_LENGTH)\n",
        "X_test = getSequences(test_df)"
      ]
    },
    {
      "cell_type": "markdown",
      "metadata": {
        "id": "yXeUyLLbvu1X"
      },
      "source": [
        "## Loading and normalizing"
      ]
    },
    {
      "cell_type": "code",
      "execution_count": 531,
      "metadata": {
        "id": "BKEGX6n1Tc_J"
      },
      "outputs": [],
      "source": [
        "def toTensor(array):\n",
        "    tensor = torch.Tensor(np.array(array))\n",
        "    # return tensor\n",
        "    return tensor.view(tensor.size(dim=0), 1, tensor.size(dim=1), tensor.size(dim=2))"
      ]
    },
    {
      "cell_type": "code",
      "execution_count": 532,
      "metadata": {
        "id": "437QWKVNvxA0"
      },
      "outputs": [],
      "source": [
        "import tensorflow as tf\n",
        "from torch.utils.data import TensorDataset, DataLoader\n",
        "trainset = TensorDataset(toTensor(X_train), torch.Tensor(y_train))\n",
        "valset = TensorDataset(toTensor(X_val), torch.Tensor(y_val))\n",
        "testset = TensorDataset(toTensor(X_test), torch.Tensor(np.zeros(shape=len(X_test))))\n",
        "\n",
        "#TODO: revise batch_size\n",
        "BATCH_SIZE = 32\n",
        "trainloader = torch.utils.data.DataLoader(trainset, batch_size=BATCH_SIZE, shuffle=True, num_workers=2)\n",
        "valloader = torch.utils.data.DataLoader(valset, batch_size=BATCH_SIZE, shuffle=True, num_workers=2)\n",
        "testloader = torch.utils.data.DataLoader(testset, batch_size=BATCH_SIZE, shuffle=False, num_workers=2)"
      ]
    },
    {
      "cell_type": "markdown",
      "metadata": {
        "id": "9RtJFoa1vatc"
      },
      "source": [
        "# Define the model"
      ]
    },
    {
      "cell_type": "code",
      "execution_count": 533,
      "metadata": {
        "id": "lS7FzyrY7gDt"
      },
      "outputs": [],
      "source": [
        "class Net(nn.Module):\n",
        "    def __init__(self):\n",
        "        super(Net, self).__init__()\n",
        "        self.layer1 = nn.Sequential(\n",
        "            nn.Conv2d(1, 32, kernel_size=3),\n",
        "            nn.BatchNorm2d(32),\n",
        "            nn.ReLU(),\n",
        "            nn.MaxPool2d(kernel_size=2),\n",
        "        )\n",
        "        self.layer2 = nn.Sequential(\n",
        "            nn.Conv2d(32, 64, kernel_size=3),\n",
        "            nn.BatchNorm2d(64),\n",
        "            nn.ReLU(),\n",
        "            nn.MaxPool2d(kernel_size=2),\n",
        "            nn.Flatten()\n",
        "        )\n",
        "        self.fc1_dT = nn.Sequential(\n",
        "            nn.Linear(64 * 108, 512),\n",
        "            nn.BatchNorm1d(512),\n",
        "            nn.ReLU(),\n",
        "        )\n",
        "        self.fc2_dT = nn.Sequential(\n",
        "            nn.Linear(512, 512),\n",
        "            nn.BatchNorm1d(512),\n",
        "            nn.ReLU(),\n",
        "        )\n",
        "        self.fc3_dT = nn.Sequential(\n",
        "            nn.Linear(512, 1),\n",
        "        )\n",
        "\n",
        "\n",
        "        self.fc1_ddG = nn.Sequential(\n",
        "            nn.Linear(64 * 108, 512),\n",
        "            nn.BatchNorm1d(512),\n",
        "            nn.ReLU(),\n",
        "        )\n",
        "        self.fc2_ddG = nn.Sequential(\n",
        "            nn.Linear(512, 512),\n",
        "            nn.BatchNorm1d(512),\n",
        "            nn.ReLU(),\n",
        "        )\n",
        "        self.fc3_ddG = nn.Sequential(\n",
        "            nn.Linear(512, 1),\n",
        "        )\n",
        "\n",
        "    def forward(self, x):\n",
        "        x = self.layer1(x)\n",
        "        x = self.layer2(x)\n",
        "        ddg = self.fc1_ddG(x)\n",
        "        ddg = self.fc2_ddG(ddg)\n",
        "        ddg = self.fc3_ddG(ddg)\n",
        "        dT = self.fc1_dT(x)\n",
        "        dT = self.fc2_dT(dT)\n",
        "        dT = self.fc3_dT(dT)\n",
        "        return ddg.squeeze(), dT.squeeze()"
      ]
    },
    {
      "cell_type": "code",
      "execution_count": 534,
      "metadata": {
        "id": "cwIBVVm0vG5Z"
      },
      "outputs": [],
      "source": [
        "model = Net().to(device)"
      ]
    },
    {
      "cell_type": "code",
      "execution_count": 535,
      "metadata": {
        "id": "vGWMpcv_uJ6K"
      },
      "outputs": [],
      "source": [
        "import torch.optim as optim\n",
        "\n",
        "criterion = nn.MSELoss()\n",
        "optimizer = optim.Adam(model.parameters(), lr=0.0001, weight_decay=1e-5)\n",
        "lr_scheduler = optim.lr_scheduler.StepLR(optimizer, step_size=5, gamma=0.7)"
      ]
    },
    {
      "cell_type": "markdown",
      "metadata": {
        "id": "13NHIdD_l3TY"
      },
      "source": [
        "# Define the Training Functions"
      ]
    },
    {
      "cell_type": "code",
      "execution_count": 536,
      "metadata": {
        "id": "B_na7Z2ivUnN"
      },
      "outputs": [
        {
          "name": "stdout",
          "output_type": "stream",
          "text": [
            "Epoch [ 1 / 20]: Train loss = 0.032060946213523435      Val Loss = 0.02800665479457573      \n",
            "Epoch [ 2 / 20]: Train loss = 0.027985327489724193      Val Loss = 0.027711501468499045     \n",
            "Epoch [ 3 / 20]: Train loss = 0.028026936706388145      Val Loss = 0.028404646516418823     \n",
            "Epoch [ 4 / 20]: Train loss = 0.02739571413520892       Val Loss = 0.028909538023524507     \n",
            "Epoch [ 5 / 20]: Train loss = 0.027143573698003513      Val Loss = 0.02610135198670093      \n",
            "Epoch [ 6 / 20]: Train loss = 0.02657868023908104       Val Loss = 0.02682515855710399      \n",
            "Epoch [ 7 / 20]: Train loss = 0.026144230722178644      Val Loss = 0.02825697268807579      \n",
            "Epoch [ 8 / 20]: Train loss = 0.0263134034549125        Val Loss = 0.028539255418878237     \n",
            "Epoch [ 9 / 20]: Train loss = 0.02639974363856769       Val Loss = 0.027150944748483632     \n",
            "Epoch [10 / 20]: Train loss = 0.026430852439229473      Val Loss = 0.02880334321634914      \n",
            "Epoch [11 / 20]: Train loss = 0.02573523369835158       Val Loss = 0.02719952310654661      \n",
            "Epoch [12 / 20]: Train loss = 0.02567023410409059       Val Loss = 0.028685157368895414     \n",
            "Epoch [13 / 20]: Train loss = 0.025852933862424606      Val Loss = 0.026545339484952253     \n",
            "Epoch [14 / 20]: Train loss = 0.02626429095964496       Val Loss = 0.028582909064837996     \n",
            "Epoch [15 / 20]: Train loss = 0.025616475025784156      Val Loss = 0.027700387864703746     \n",
            "Epoch [16 / 20]: Train loss = 0.025495920899278494      Val Loss = 0.02752931239969105      \n",
            "Epoch [17 / 20]: Train loss = 0.025495494247971533      Val Loss = 0.02686193322013137      \n",
            "Epoch [18 / 20]: Train loss = 0.025134380715366857      Val Loss = 0.02788391245545159      \n",
            "Epoch [19 / 20]: Train loss = 0.02548130910475018       Val Loss = 0.027385520717481602     \n",
            "Epoch [20 / 20]: Train loss = 0.025476453491235215      Val Loss = 0.028162455409908388     \n",
            "Finished Training\n"
          ]
        }
      ],
      "source": [
        "# %%time\n",
        "best_val_loss = 100000\n",
        "best_val_model = None\n",
        "MAX_EPOCH = 20\n",
        "loss_record = {'train': [], 'dev': []} # added\n",
        "C_dt_loss = 0.01\n",
        "for epoch in range(MAX_EPOCH):  \n",
        "    model.train()\n",
        "    running_train_loss = 0.0\n",
        "    for i, data in enumerate(trainloader, 0):\n",
        "        inputs, labels = data\n",
        "        inputs, labels = inputs.cuda(), labels.cuda()\n",
        "        # print(labels)\n",
        "        ddg = labels[:, 0]\n",
        "        dt = labels[:, 1]\n",
        "\n",
        "        optimizer.zero_grad()\n",
        "        ddg_pred, dt_pred = model(inputs)\n",
        "        \n",
        "        loss = None\n",
        "        any_ddg = ~torch.isnan(ddg)\n",
        "        if torch.any(any_ddg):\n",
        "            loss = criterion(ddg[any_ddg], ddg_pred[any_ddg])\n",
        "        any_dt = ~torch.isnan(dt)\n",
        "        if torch.any(any_dt):\n",
        "            dt_loss = criterion(dt[any_dt], dt_pred[any_dt])\n",
        "            if loss is None:\n",
        "                loss = dt_loss * C_dt_loss\n",
        "            else:\n",
        "                loss += dt_loss * C_dt_loss\n",
        "        loss.backward()\n",
        "        optimizer.step()\n",
        "\n",
        "        # print statistics\n",
        "        running_train_loss += loss.item()\n",
        "    loss_record['train'].append(running_train_loss/len(trainset))\n",
        "    \n",
        "    model.eval()\n",
        "    running_val_loss = 0.0\n",
        "    with torch.no_grad():\n",
        "        for inputs,labels in valloader:\n",
        "            ddg = labels[:, 0]\n",
        "            dt = labels[:, 1]\n",
        "            ddg_pred, dt_pred = model(inputs.cuda())\n",
        "            ddg_pred, dt_pred = ddg_pred.cpu(), dt_pred.cpu()\n",
        "            ddg_pred, dt_pred = ddg_pred.detach(), dt_pred.detach()\n",
        "            not_nan_ddg = ~torch.isnan(ddg)\n",
        "            ddg_loss = criterion(ddg[not_nan_ddg], ddg_pred[not_nan_ddg])\n",
        "\n",
        "            not_nan_dt = ~torch.isnan(dt)\n",
        "            dt_loss = criterion(dt[not_nan_dt], dt_pred[not_nan_dt])\n",
        "\n",
        "            loss = torch.stack([ddg_loss, dt_loss * C_dt_loss])\n",
        "            loss = loss[~torch.isnan(loss)].sum()\n",
        "            running_val_loss += loss.item()\n",
        "    loss_record['dev'].append(running_val_loss/len(valset))\n",
        "    print(\"Epoch [{:>2} / {}]: Train loss = {:<25} Val Loss = {:<25}\".format(epoch+1, MAX_EPOCH, running_train_loss/len(trainset), running_val_loss/len(valset)))\n",
        "    if running_val_loss < best_val_loss:\n",
        "        best_val_loss = running_val_loss\n",
        "        best_val_model = deepcopy(model.state_dict())\n",
        "    lr_scheduler.step()\n",
        "    \n",
        "print('Finished Training')"
      ]
    },
    {
      "cell_type": "markdown",
      "metadata": {},
      "source": [
        "# Learning Curve"
      ]
    },
    {
      "cell_type": "code",
      "execution_count": 537,
      "metadata": {
        "id": "DHCYVWq4yTMc"
      },
      "outputs": [],
      "source": [
        "# For plotting\n",
        "import matplotlib.pyplot as plt\n",
        "from matplotlib.pyplot import figure\n",
        "import math"
      ]
    },
    {
      "cell_type": "code",
      "execution_count": 538,
      "metadata": {
        "id": "m9R0_e7zyNqW"
      },
      "outputs": [],
      "source": [
        "def plot_learning_curve(record, title=''):\n",
        "    ''' Plot learning curve of your DNN (train & dev loss) '''\n",
        "    x_1 = range(len(record['train']))\n",
        "    x_2 = range(len(record['dev']))\n",
        "    figure(figsize=(6, 4))\n",
        "    plt.plot(x_1, record['train'], c='tab:red', label='train')\n",
        "    plt.plot(x_2, record['dev'], c='tab:cyan', label='dev')\n",
        "    \n",
        "    # TODO: feel free to change this range to see the learning curve better\n",
        "    y_min = min(min(record['train']), min(record['dev']))\n",
        "    y_max = max(max(record['train']), max(record['dev']))\n",
        "    plt.ylim(max(.95*y_min-0.01, 0), 1.05*y_max+0.01)\n",
        "    plt.xlabel('Epochs')\n",
        "    plt.ylabel('Loss')\n",
        "    plt.title('Learning curve of {}'.format(title))\n",
        "    plt.legend()\n",
        "    plt.show()"
      ]
    },
    {
      "cell_type": "code",
      "execution_count": 539,
      "metadata": {
        "id": "NIxuqeityv1U"
      },
      "outputs": [
        {
          "data": {
            "image/png": "[encoded data removed]",
            "text/plain": [
              "<Figure size 600x400 with 1 Axes>"
            ]
          },
          "metadata": {},
          "output_type": "display_data"
        }
      ],
      "source": [
        "plot_learning_curve(loss_record, title=\"CNN model\")"
      ]
    },
    {
      "cell_type": "markdown",
      "metadata": {},
      "source": [
        "# Model Evaluation and Prediction"
      ]
    },
    {
      "cell_type": "code",
      "execution_count": 540,
      "metadata": {
        "id": "aF9S5RIglvW2"
      },
      "outputs": [
        {
          "name": "stdout",
          "output_type": "stream",
          "text": [
            "Wall time: 2.4 s\n"
          ]
        }
      ],
      "source": [
        "%%time\n",
        "preds = []\n",
        "model.load_state_dict(best_val_model)\n",
        "model.eval()\n",
        "with torch.no_grad():\n",
        "    for inputs, labels in testloader:\n",
        "        ddg_pred, dt_pred = model(inputs.cuda())\n",
        "        preds.append(ddg_pred.detach().cpu())\n",
        "preds = torch.cat(preds, dim=0).numpy()"
      ]
    },
    {
      "cell_type": "code",
      "execution_count": 541,
      "metadata": {},
      "outputs": [
        {
          "name": "stdout",
          "output_type": "stream",
          "text": [
            "Saving results to pred_v2.csv\n"
          ]
        }
      ],
      "source": [
        "def make_prediction(preds, file):\n",
        "    print(f'Saving results to {file}')\n",
        "    submission = pd.read_csv(\"../data/kaggle/sample_submission.csv\")\n",
        "    submission[\"tm\"] = preds\n",
        "    submission.to_csv(file, index=False)\n",
        "\n",
        "make_prediction(preds, file=\"pred_v2.csv\")"
      ]
    }
  ],
  "metadata": {
    "accelerator": "GPU",
    "colab": {
      "provenance": []
    },
    "gpuClass": "standard",
    "kernelspec": {
      "display_name": "Python 3.9.13 ('base')",
      "language": "python",
      "name": "python3"
    },
    "language_info": {
      "codemirror_mode": {
        "name": "ipython",
        "version": 3
      },
      "file_extension": ".py",
      "mimetype": "text/x-python",
      "name": "python",
      "nbconvert_exporter": "python",
      "pygments_lexer": "ipython3",
      "version": "3.9.13"
    },
    "vscode": {
      "interpreter": {
        "hash": "b70492cf92a1f78fc18b7684d71bbc4f8886ffb7e78a5e47686b46a1a93e069b"
      }
    }
  },
  "nbformat": 4,
  "nbformat_minor": 0
}
