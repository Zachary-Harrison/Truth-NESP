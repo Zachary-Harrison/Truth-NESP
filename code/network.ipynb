{
 "cells": [
  {
   "cell_type": "markdown",
   "metadata": {},
   "source": [
    "# Model creation!\n",
    "this is where the actual magic happens. "
   ]
  },
  {
   "cell_type": "markdown",
   "metadata": {},
   "source": [
    "## **Importing Packages**"
   ]
  },
  {
   "cell_type": "code",
   "execution_count": 32,
   "metadata": {},
   "outputs": [],
   "source": [
    "# for feature selection\n",
    "import pandas as pd\n",
    "from sklearn import preprocessing\n",
    "from sklearn import utils\n",
    "\n",
    "# For data preprocess\n",
    "import csv\n",
    "\n",
    "# the models\n",
    "from sklearn.linear_model import LinearRegression\n",
    "from sklearn.preprocessing import StandardScaler\n",
    "from sklearn.pipeline import make_pipeline\n",
    "from sklearn.tree import DecisionTreeRegressor\n",
    "from sklearn.ensemble import AdaBoostRegressor, ExtraTreesRegressor, GradientBoostingRegressor\n",
    "\n",
    "\n",
    "\n",
    "# import from other .ipynb files\n",
    "from ipynb.fs.full.data_preprocessing import simple_convert, mod_tr_path, tt_path\n",
    "# from ipynb.fs.full.feature_selection import get_features"
   ]
  },
  {
   "cell_type": "markdown",
   "metadata": {},
   "source": [
    "# Utilities"
   ]
  },
  {
   "cell_type": "code",
   "execution_count": 33,
   "metadata": {},
   "outputs": [],
   "source": [
    "# this is how predictions/submissions will be saved\n",
    "def save_pred(preds, file, startAt=0):\n",
    "    print('Saving results to {}'.format(file))\n",
    "    df_pred = pd.DataFrame({'tm': preds})\n",
    "    df_pred.insert(0, 'seq_id', range(startAt, startAt + len(preds)))\n",
    "    df_pred.to_csv(file, index=False)"
   ]
  },
  {
   "cell_type": "code",
   "execution_count": 34,
   "metadata": {},
   "outputs": [],
   "source": [
    "tr_path = \"../data/train.csv\"\n",
    "tt_path = \"../data/test.csv\""
   ]
  },
  {
   "cell_type": "markdown",
   "metadata": {},
   "source": [
    "# Transforming data\n",
    "The data files suck."
   ]
  },
  {
   "cell_type": "code",
   "execution_count": 35,
   "metadata": {},
   "outputs": [
    {
     "name": "stdout",
     "output_type": "stream",
     "text": [
      "       seq_id  protein_sequence   pH  data_source\n",
      "0           0               341  7.0            0\n",
      "1           1               286  7.0            0\n",
      "2           2               497  7.0            0\n",
      "3           3               265  7.0            0\n",
      "4           4              1451  7.0            0\n",
      "...       ...               ...  ...          ...\n",
      "31099   31099               549  7.0            0\n",
      "31100   31100               469  7.0            0\n",
      "31101   31101               128  7.0            0\n",
      "31102   31102               593  7.0            0\n",
      "31103   31103               537  7.0            0\n",
      "\n",
      "[31104 rows x 4 columns] 0        75.7\n",
      "1        50.5\n",
      "2        40.5\n",
      "3        47.2\n",
      "4        49.5\n",
      "         ... \n",
      "31099    51.8\n",
      "31100    37.2\n",
      "31101    64.6\n",
      "31102    50.7\n",
      "31103    37.6\n",
      "Name: tm, Length: 31104, dtype: float64\n"
     ]
    }
   ],
   "source": [
    "df_train, data_source_dict = simple_convert(mod_tr_path)\n",
    "df_test, data_source_dict = simple_convert(tt_path, data_source_dict)\n",
    "x_train = df_train.drop('tm', axis = 1)\n",
    "y_train = df_train['tm']\n",
    "print(x_train, y_train)\n",
    "lab = preprocessing.LabelEncoder()\n",
    "y_train = lab.fit_transform(y_train)\n",
    "x_test = df_test"
   ]
  },
  {
   "cell_type": "markdown",
   "metadata": {},
   "source": [
    "# Training"
   ]
  },
  {
   "cell_type": "code",
   "execution_count": 36,
   "metadata": {},
   "outputs": [],
   "source": [
    "def tryModel(model, pred_file):\n",
    "    model1 = model(random_state=len(x_train))\n",
    "    model1.fit(x_train, y_train)\n",
    "    y_test1 = model1.predict(x_test)\n",
    "    save_pred(y_test1, pred_file, startAt=x_test['seq_id'][0])\n",
    "    model1.feature_importances_"
   ]
  },
  {
   "cell_type": "code",
   "execution_count": 37,
   "metadata": {},
   "outputs": [
    {
     "name": "stdout",
     "output_type": "stream",
     "text": [
      "Saving results to ../predictions/DTRpred.csv\n",
      "Saving results to ../predictions/ABRpred.csv\n",
      "Saving results to ../predictions/GBRpred.csv\n"
     ]
    }
   ],
   "source": [
    "tryModel(DecisionTreeRegressor, '../predictions/DTRpred.csv')\n",
    "tryModel(AdaBoostRegressor, '../predictions/ABRpred.csv')\n",
    "tryModel(GradientBoostingRegressor, '../predictions/GBRpred.csv')\n"
   ]
  },
  {
   "cell_type": "code",
   "execution_count": 38,
   "metadata": {},
   "outputs": [
    {
     "name": "stdout",
     "output_type": "stream",
     "text": [
      "Saving results to ../predictions/LRpred.csv\n"
     ]
    }
   ],
   "source": [
    "model1 = make_pipeline(StandardScaler(), LinearRegression())\n",
    "model1.fit(x_train, y_train)\n",
    "y_test1 = model1.predict(x_test)\n",
    "save_pred(y_test1, \"../predictions/LRpred.csv\", startAt=x_test['seq_id'][0])"
   ]
  }
 ],
 "metadata": {
  "kernelspec": {
   "display_name": "Python 3.7.9 64-bit",
   "language": "python",
   "name": "python3"
  },
  "language_info": {
   "codemirror_mode": {
    "name": "ipython",
    "version": 3
   },
   "file_extension": ".py",
   "mimetype": "text/x-python",
   "name": "python",
   "nbconvert_exporter": "python",
   "pygments_lexer": "ipython3",
   "version": "3.7.9"
  },
  "orig_nbformat": 4,
  "vscode": {
   "interpreter": {
    "hash": "abc8709615b5f81fced745e59133b05a7ce14864da8ef4169d80ff831846d0e8"
   }
  }
 },
 "nbformat": 4,
 "nbformat_minor": 2
}
