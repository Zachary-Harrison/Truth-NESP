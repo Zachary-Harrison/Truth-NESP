{
 "cells": [
  {
   "cell_type": "markdown",
   "metadata": {},
   "source": [
    "# Model creation!\n",
    "this is where the actual magic happens. "
   ]
  },
  {
   "cell_type": "markdown",
   "metadata": {},
   "source": [
    "## **Importing Packages**"
   ]
  },
  {
   "cell_type": "code",
   "execution_count": null,
   "metadata": {},
   "outputs": [],
   "source": [
    "# for feature selection\n",
    "import pandas as pd\n",
    "from sklearn import preprocessing\n",
    "from sklearn import utils\n",
    "\n",
    "# For data preprocess\n",
    "import csv\n",
    "\n",
    "# the models\n",
    "from sklearn.linear_model import LinearRegression, SGDRegressor, LogisticRegression\n",
    "from sklearn.preprocessing import StandardScaler\n",
    "from sklearn.pipeline import make_pipeline\n",
    "from sklearn.tree import DecisionTreeRegressor\n",
    "from sklearn.ensemble import AdaBoostRegressor, ExtraTreesRegressor, GradientBoostingRegressor\n",
    "\n",
    "\n",
    "\n",
    "# import from other .ipynb files\n",
    "from ipynb.fs.full.data_preprocessing import simple_convert, tr_path, tt_path\n",
    "# from ipynb.fs.full.feature_selection import get_features"
   ]
  },
  {
   "cell_type": "markdown",
   "metadata": {},
   "source": [
    "# Utilities"
   ]
  },
  {
   "cell_type": "code",
   "execution_count": null,
   "metadata": {},
   "outputs": [],
   "source": [
    "# this is how predictions/submissions will be saved\n",
    "def save_pred(preds, file, startAt=0):\n",
    "    print('Saving results to {}'.format(file))\n",
    "    df_pred = pd.DataFrame({'tm': preds})\n",
    "    df_pred.insert(0, 'seq_id', range(startAt, startAt + len(preds)))\n",
    "    df_pred.to_csv(file, index=False)"
   ]
  },
  {
   "cell_type": "markdown",
   "metadata": {},
   "source": [
    "# Transforming data\n",
    "The data files suck."
   ]
  },
  {
   "cell_type": "code",
   "execution_count": null,
   "metadata": {},
   "outputs": [],
   "source": [
    "df_train, data_source_dict = simple_convert(tr_path)\n",
    "df_test, data_source_dict = simple_convert(tt_path, data_source_dict=data_source_dict)\n",
    "x_train = df_train.drop('tm', axis = 1)\n",
    "y_train = df_train['tm']\n",
    "# print(x_train, y_train)\n",
    "lab = preprocessing.LabelEncoder()\n",
    "y_train = lab.fit_transform(y_train)\n",
    "x_test = df_test\n",
    "x_test.to_csv(\"fuckedup.csv\")\n",
    "print(x_test)\n",
    "print(\"-------------------------------------\")\n",
    "print(x_test['protein_sequence'])\n",
    "print(x_test['pH'])\n",
    "print(x_test['data_source'])\n",
    "print(x_test.at[0, \"seq_id\"])"
   ]
  },
  {
   "cell_type": "markdown",
   "metadata": {},
   "source": [
    "# Training"
   ]
  },
  {
   "cell_type": "code",
   "execution_count": null,
   "metadata": {},
   "outputs": [],
   "source": [
    "def tryModel(model, pred_file):\n",
    "    model = model(random_state=len(x_train))\n",
    "    model.fit(x_train, y_train)\n",
    "    y_test = model.predict(x_test)\n",
    "    save_pred(y_test, pred_file, startAt=x_test['seq_id'][0])"
   ]
  },
  {
   "cell_type": "code",
   "execution_count": null,
   "metadata": {},
   "outputs": [],
   "source": [
    "tryModel(DecisionTreeRegressor, '../predictions/DTRpred.csv')\n",
    "tryModel(AdaBoostRegressor, '../predictions/ABRpred.csv')\n",
    "tryModel(GradientBoostingRegressor, '../predictions/GBRpred.csv')"
   ]
  },
  {
   "cell_type": "code",
   "execution_count": null,
   "metadata": {},
   "outputs": [],
   "source": [
    "def tryPipeline(scaler, regType, file):\n",
    "    pipe = make_pipeline(scaler(), regType())\n",
    "    pipe.fit(x_train, y_train)\n",
    "    y_test = pipe.predict(x_test)\n",
    "    save_pred(y_test, file, startAt=x_test['seq_id'][0])"
   ]
  },
  {
   "cell_type": "code",
   "execution_count": null,
   "metadata": {},
   "outputs": [],
   "source": [
    "tryPipeline(StandardScaler, LinearRegression, \"../predictions/LinReg_pred.csv\")\n",
    "tryPipeline(StandardScaler, SGDRegressor, \"../predictions/SGDReg_pred.csv\")\n",
    "tryPipeline(StandardScaler, LogisticRegression, \"../predictions/LogReg_pred.csv\")"
   ]
  },
  {
   "cell_type": "code",
   "execution_count": null,
   "metadata": {},
   "outputs": [],
   "source": []
  }
 ],
 "metadata": {
  "kernelspec": {
   "display_name": "Python 3.7.9 64-bit",
   "language": "python",
   "name": "python3"
  },
  "language_info": {
   "codemirror_mode": {
    "name": "ipython",
    "version": 3
   },
   "file_extension": ".py",
   "mimetype": "text/x-python",
   "name": "python",
   "nbconvert_exporter": "python",
   "pygments_lexer": "ipython3",
   "version": "3.7.9"
  },
  "orig_nbformat": 4,
  "vscode": {
   "interpreter": {
    "hash": "abc8709615b5f81fced745e59133b05a7ce14864da8ef4169d80ff831846d0e8"
   }
  }
 },
 "nbformat": 4,
 "nbformat_minor": 2
}
