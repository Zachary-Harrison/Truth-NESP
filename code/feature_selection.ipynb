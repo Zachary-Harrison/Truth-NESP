{
 "cells": [
  {
   "cell_type": "markdown",
   "metadata": {},
   "source": [
    "# **Feature Selection**\n",
    "This file is mainly about feature selection through feature correlation. This is a process by which we see how correlated each feature is with each other and remove features that do not provide additional data. I suspect that, in this case, we will not see a need for feature selection because there are only 3 features (protein_sequence, pH, data_source) to work with. However, perhaps additional analysis could be done on the protein_sequence feature to warrant more significant results"
   ]
  },
  {
   "cell_type": "markdown",
   "metadata": {},
   "source": [
    "# **Import Some Packages**"
   ]
  },
  {
   "cell_type": "code",
   "execution_count": 5,
   "metadata": {},
   "outputs": [],
   "source": [
    "import pandas as pd\n",
    "import numpy as np\n",
    "import matplotlib.pyplot as plt\n",
    "import seaborn as sns\n",
    "\n",
    "from sklearn.feature_selection import SelectKBest, chi2\n",
    "\n",
    "# how to import from other .ipynb files\n",
    "from ipynb.fs.full.data_preprocessing import simple_convert, mod_tr_path"
   ]
  },
  {
   "cell_type": "code",
   "execution_count": 6,
   "metadata": {},
   "outputs": [
    {
     "name": "stderr",
     "output_type": "stream",
     "text": [
      "C:\\Users\\zacha\\AppData\\Roaming\\Python\\Python37\\site-packages\\ipykernel_launcher.py:3: FutureWarning: this method is deprecated in favour of `Styler.format(precision=..)`\n",
      "  This is separate from the ipykernel package so we can avoid doing imports until\n"
     ]
    },
    {
     "data": {
      "text/html": [
       "<style type=\"text/css\">\n",
       "#T_5257f_row0_col0, #T_5257f_row1_col1, #T_5257f_row2_col2, #T_5257f_row3_col3, #T_5257f_row4_col4 {\n",
       "  background-color: #b40426;\n",
       "  color: #f1f1f1;\n",
       "}\n",
       "#T_5257f_row0_col1 {\n",
       "  background-color: #5572df;\n",
       "  color: #f1f1f1;\n",
       "}\n",
       "#T_5257f_row0_col2, #T_5257f_row0_col4 {\n",
       "  background-color: #4e68d8;\n",
       "  color: #f1f1f1;\n",
       "}\n",
       "#T_5257f_row0_col3 {\n",
       "  background-color: #88abfd;\n",
       "  color: #000000;\n",
       "}\n",
       "#T_5257f_row1_col0 {\n",
       "  background-color: #465ecf;\n",
       "  color: #f1f1f1;\n",
       "}\n",
       "#T_5257f_row1_col2 {\n",
       "  background-color: #5f7fe8;\n",
       "  color: #f1f1f1;\n",
       "}\n",
       "#T_5257f_row1_col3, #T_5257f_row2_col4 {\n",
       "  background-color: #3e51c5;\n",
       "  color: #f1f1f1;\n",
       "}\n",
       "#T_5257f_row1_col4, #T_5257f_row2_col0, #T_5257f_row2_col3, #T_5257f_row3_col1, #T_5257f_row3_col2 {\n",
       "  background-color: #3b4cc0;\n",
       "  color: #f1f1f1;\n",
       "}\n",
       "#T_5257f_row2_col1 {\n",
       "  background-color: #5b7ae5;\n",
       "  color: #f1f1f1;\n",
       "}\n",
       "#T_5257f_row3_col0, #T_5257f_row3_col4 {\n",
       "  background-color: #7699f6;\n",
       "  color: #f1f1f1;\n",
       "}\n",
       "#T_5257f_row4_col0 {\n",
       "  background-color: #4961d2;\n",
       "  color: #f1f1f1;\n",
       "}\n",
       "#T_5257f_row4_col1 {\n",
       "  background-color: #445acc;\n",
       "  color: #f1f1f1;\n",
       "}\n",
       "#T_5257f_row4_col2 {\n",
       "  background-color: #4c66d6;\n",
       "  color: #f1f1f1;\n",
       "}\n",
       "#T_5257f_row4_col3 {\n",
       "  background-color: #82a6fb;\n",
       "  color: #f1f1f1;\n",
       "}\n",
       "</style>\n",
       "<table id=\"T_5257f_\">\n",
       "  <thead>\n",
       "    <tr>\n",
       "      <th class=\"blank level0\" >&nbsp;</th>\n",
       "      <th class=\"col_heading level0 col0\" >seq_id</th>\n",
       "      <th class=\"col_heading level0 col1\" >protein_sequence</th>\n",
       "      <th class=\"col_heading level0 col2\" >pH</th>\n",
       "      <th class=\"col_heading level0 col3\" >data_source</th>\n",
       "      <th class=\"col_heading level0 col4\" >tm</th>\n",
       "    </tr>\n",
       "  </thead>\n",
       "  <tbody>\n",
       "    <tr>\n",
       "      <th id=\"T_5257f_level0_row0\" class=\"row_heading level0 row0\" >seq_id</th>\n",
       "      <td id=\"T_5257f_row0_col0\" class=\"data row0 col0\" >1.000</td>\n",
       "      <td id=\"T_5257f_row0_col1\" class=\"data row0 col1\" >-0.000</td>\n",
       "      <td id=\"T_5257f_row0_col2\" class=\"data row0 col2\" >-0.041</td>\n",
       "      <td id=\"T_5257f_row0_col3\" class=\"data row0 col3\" >0.153</td>\n",
       "      <td id=\"T_5257f_row0_col4\" class=\"data row0 col4\" >0.010</td>\n",
       "    </tr>\n",
       "    <tr>\n",
       "      <th id=\"T_5257f_level0_row1\" class=\"row_heading level0 row1\" >protein_sequence</th>\n",
       "      <td id=\"T_5257f_row1_col0\" class=\"data row1 col0\" >-0.000</td>\n",
       "      <td id=\"T_5257f_row1_col1\" class=\"data row1 col1\" >1.000</td>\n",
       "      <td id=\"T_5257f_row1_col2\" class=\"data row1 col2\" >0.020</td>\n",
       "      <td id=\"T_5257f_row1_col3\" class=\"data row1 col3\" >-0.097</td>\n",
       "      <td id=\"T_5257f_row1_col4\" class=\"data row1 col4\" >-0.060</td>\n",
       "    </tr>\n",
       "    <tr>\n",
       "      <th id=\"T_5257f_level0_row2\" class=\"row_heading level0 row2\" >pH</th>\n",
       "      <td id=\"T_5257f_row2_col0\" class=\"data row2 col0\" >-0.041</td>\n",
       "      <td id=\"T_5257f_row2_col1\" class=\"data row2 col1\" >0.020</td>\n",
       "      <td id=\"T_5257f_row2_col2\" class=\"data row2 col2\" >1.000</td>\n",
       "      <td id=\"T_5257f_row2_col3\" class=\"data row2 col3\" >-0.110</td>\n",
       "      <td id=\"T_5257f_row2_col4\" class=\"data row2 col4\" >-0.045</td>\n",
       "    </tr>\n",
       "    <tr>\n",
       "      <th id=\"T_5257f_level0_row3\" class=\"row_heading level0 row3\" >data_source</th>\n",
       "      <td id=\"T_5257f_row3_col0\" class=\"data row3 col0\" >0.153</td>\n",
       "      <td id=\"T_5257f_row3_col1\" class=\"data row3 col1\" >-0.097</td>\n",
       "      <td id=\"T_5257f_row3_col2\" class=\"data row3 col2\" >-0.110</td>\n",
       "      <td id=\"T_5257f_row3_col3\" class=\"data row3 col3\" >1.000</td>\n",
       "      <td id=\"T_5257f_row3_col4\" class=\"data row3 col4\" >0.136</td>\n",
       "    </tr>\n",
       "    <tr>\n",
       "      <th id=\"T_5257f_level0_row4\" class=\"row_heading level0 row4\" >tm</th>\n",
       "      <td id=\"T_5257f_row4_col0\" class=\"data row4 col0\" >0.010</td>\n",
       "      <td id=\"T_5257f_row4_col1\" class=\"data row4 col1\" >-0.060</td>\n",
       "      <td id=\"T_5257f_row4_col2\" class=\"data row4 col2\" >-0.045</td>\n",
       "      <td id=\"T_5257f_row4_col3\" class=\"data row4 col3\" >0.136</td>\n",
       "      <td id=\"T_5257f_row4_col4\" class=\"data row4 col4\" >1.000</td>\n",
       "    </tr>\n",
       "  </tbody>\n",
       "</table>\n"
      ],
      "text/plain": [
       "<pandas.io.formats.style.Styler at 0x14a6225b308>"
      ]
     },
     "execution_count": 6,
     "metadata": {},
     "output_type": "execute_result"
    }
   ],
   "source": [
    "df = simple_convert(mod_tr_path)\n",
    "corr = df.corr()\n",
    "corr.style.background_gradient(cmap='coolwarm').set_precision(3)"
   ]
  },
  {
   "cell_type": "code",
   "execution_count": 7,
   "metadata": {},
   "outputs": [
    {
     "name": "stderr",
     "output_type": "stream",
     "text": [
      "C:\\Users\\zacha\\AppData\\Roaming\\Python\\Python37\\site-packages\\ipykernel_launcher.py:3: FutureWarning: this method is deprecated in favour of `Styler.format(precision=..)`\n",
      "  This is separate from the ipykernel package so we can avoid doing imports until\n"
     ]
    },
    {
     "data": {
      "text/html": [
       "<style type=\"text/css\">\n",
       "#T_e7783_row0_col0, #T_e7783_row1_col1, #T_e7783_row2_col2 {\n",
       "  background-color: #b40426;\n",
       "  color: #f1f1f1;\n",
       "}\n",
       "#T_e7783_row0_col1 {\n",
       "  background-color: #5f7fe8;\n",
       "  color: #f1f1f1;\n",
       "}\n",
       "#T_e7783_row0_col2 {\n",
       "  background-color: #3e51c5;\n",
       "  color: #f1f1f1;\n",
       "}\n",
       "#T_e7783_row1_col0 {\n",
       "  background-color: #5b7ae5;\n",
       "  color: #f1f1f1;\n",
       "}\n",
       "#T_e7783_row1_col2, #T_e7783_row2_col0, #T_e7783_row2_col1 {\n",
       "  background-color: #3b4cc0;\n",
       "  color: #f1f1f1;\n",
       "}\n",
       "</style>\n",
       "<table id=\"T_e7783_\">\n",
       "  <thead>\n",
       "    <tr>\n",
       "      <th class=\"blank level0\" >&nbsp;</th>\n",
       "      <th class=\"col_heading level0 col0\" >protein_sequence</th>\n",
       "      <th class=\"col_heading level0 col1\" >pH</th>\n",
       "      <th class=\"col_heading level0 col2\" >data_source</th>\n",
       "    </tr>\n",
       "  </thead>\n",
       "  <tbody>\n",
       "    <tr>\n",
       "      <th id=\"T_e7783_level0_row0\" class=\"row_heading level0 row0\" >protein_sequence</th>\n",
       "      <td id=\"T_e7783_row0_col0\" class=\"data row0 col0\" >1.000</td>\n",
       "      <td id=\"T_e7783_row0_col1\" class=\"data row0 col1\" >0.020</td>\n",
       "      <td id=\"T_e7783_row0_col2\" class=\"data row0 col2\" >-0.097</td>\n",
       "    </tr>\n",
       "    <tr>\n",
       "      <th id=\"T_e7783_level0_row1\" class=\"row_heading level0 row1\" >pH</th>\n",
       "      <td id=\"T_e7783_row1_col0\" class=\"data row1 col0\" >0.020</td>\n",
       "      <td id=\"T_e7783_row1_col1\" class=\"data row1 col1\" >1.000</td>\n",
       "      <td id=\"T_e7783_row1_col2\" class=\"data row1 col2\" >-0.110</td>\n",
       "    </tr>\n",
       "    <tr>\n",
       "      <th id=\"T_e7783_level0_row2\" class=\"row_heading level0 row2\" >data_source</th>\n",
       "      <td id=\"T_e7783_row2_col0\" class=\"data row2 col0\" >-0.097</td>\n",
       "      <td id=\"T_e7783_row2_col1\" class=\"data row2 col1\" >-0.110</td>\n",
       "      <td id=\"T_e7783_row2_col2\" class=\"data row2 col2\" >1.000</td>\n",
       "    </tr>\n",
       "  </tbody>\n",
       "</table>\n"
      ],
      "text/plain": [
       "<pandas.io.formats.style.Styler at 0x14a612034c8>"
      ]
     },
     "execution_count": 7,
     "metadata": {},
     "output_type": "execute_result"
    }
   ],
   "source": [
    "df = simple_convert(mod_tr_path)\n",
    "corr = df.drop(columns=[\"seq_id\", \"tm\"]).corr()\n",
    "corr.style.background_gradient(cmap='coolwarm').set_precision(3)"
   ]
  },
  {
   "cell_type": "code",
   "execution_count": 8,
   "metadata": {},
   "outputs": [],
   "source": [
    "def get_features(threshold):\n",
    "    df = simple_convert(mod_tr_path)\n",
    "    corr = df.corr()\n",
    "    corr_abs = abs(corr[\"tm\"])\n",
    "    relevant_features = corr_abs[corr_abs < threshold]\n",
    "    return relevant_features.index.tolist()"
   ]
  }
 ],
 "metadata": {
  "kernelspec": {
   "display_name": "Python 3.7.9 64-bit",
   "language": "python",
   "name": "python3"
  },
  "language_info": {
   "codemirror_mode": {
    "name": "ipython",
    "version": 3
   },
   "file_extension": ".py",
   "mimetype": "text/x-python",
   "name": "python",
   "nbconvert_exporter": "python",
   "pygments_lexer": "ipython3",
   "version": "3.7.9"
  },
  "orig_nbformat": 4,
  "vscode": {
   "interpreter": {
    "hash": "abc8709615b5f81fced745e59133b05a7ce14864da8ef4169d80ff831846d0e8"
   }
  }
 },
 "nbformat": 4,
 "nbformat_minor": 2
}
