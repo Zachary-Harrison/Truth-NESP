{
 "cells": [
  {
   "cell_type": "markdown",
   "metadata": {},
   "source": [
    "# Data Processing\n",
    "This file is going to be very important for this problem. While it is wise to preprocess, especially via data scaling, it is especially important in this case because the data is nonsense without it. Two of our three features aren't even numbers and are therefore meaningless without data processing."
   ]
  },
  {
   "cell_type": "markdown",
   "metadata": {},
   "source": [
    "# **Import Some Packages**"
   ]
  },
  {
   "cell_type": "code",
   "execution_count": 108,
   "metadata": {},
   "outputs": [],
   "source": [
    "import pandas as pd\n",
    "import numpy as np"
   ]
  },
  {
   "cell_type": "markdown",
   "metadata": {},
   "source": [
    "# A simple approach \n",
    "- for protein_sequence, use its length\n",
    "- for data_source, put them all into a dictionary and use its index. "
   ]
  },
  {
   "cell_type": "code",
   "execution_count": 109,
   "metadata": {},
   "outputs": [],
   "source": [
    "# when given a path: String, return a modified df: pd.DataFrame which\n",
    "from numpy import dtype\n",
    "\n",
    "\n",
    "def simple_convert(path):\n",
    "    df = pd.read_csv(path)\n",
    "    df[\"protein_sequence\"] = df[\"protein_sequence\"].apply(lambda x: len(x), convert_dtype=int)\n",
    "    data_source_dict = {}\n",
    "    df[\"data_source\"] = df[\"data_source\"].apply(conv_datasrc, args=(data_source_dict,), convert_dtype=int)\n",
    "    return df\n",
    "\n",
    "def conv_datasrc(x, dict):\n",
    "    if x not in dict:\n",
    "        dict.update({x: len(dict)})\n",
    "    return dict[x]"
   ]
  }
 ],
 "metadata": {
  "kernelspec": {
   "display_name": "Python 3.7.9 64-bit",
   "language": "python",
   "name": "python3"
  },
  "language_info": {
   "codemirror_mode": {
    "name": "ipython",
    "version": 3
   },
   "file_extension": ".py",
   "mimetype": "text/x-python",
   "name": "python",
   "nbconvert_exporter": "python",
   "pygments_lexer": "ipython3",
   "version": "3.7.9"
  },
  "orig_nbformat": 4,
  "vscode": {
   "interpreter": {
    "hash": "abc8709615b5f81fced745e59133b05a7ce14864da8ef4169d80ff831846d0e8"
   }
  }
 },
 "nbformat": 4,
 "nbformat_minor": 2
}
