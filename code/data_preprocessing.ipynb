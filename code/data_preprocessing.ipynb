{
 "cells": [
  {
   "cell_type": "markdown",
   "metadata": {},
   "source": [
    "# Data Processing\n",
    "This file is going to be very important for this problem. While it is wise to preprocess, especially via data scaling, it is especially important in this case because the data is nonsense without it. Two of our three features aren't even numbers and are therefore meaningless without data processing."
   ]
  },
  {
   "cell_type": "code",
   "execution_count": null,
   "metadata": {},
   "outputs": [],
   "source": []
  },
  {
   "cell_type": "markdown",
   "metadata": {},
   "source": [
    "A simple approach"
   ]
  }
 ],
 "metadata": {
  "kernelspec": {
   "display_name": "Python 3.7.9 64-bit",
   "language": "python",
   "name": "python3"
  },
  "language_info": {
   "name": "python",
   "version": "3.7.9"
  },
  "orig_nbformat": 4,
  "vscode": {
   "interpreter": {
    "hash": "abc8709615b5f81fced745e59133b05a7ce14864da8ef4169d80ff831846d0e8"
   }
  }
 },
 "nbformat": 4,
 "nbformat_minor": 2
}
