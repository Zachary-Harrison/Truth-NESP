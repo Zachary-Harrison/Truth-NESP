{
 "cells": [
  {
   "cell_type": "markdown",
   "metadata": {},
   "source": [
    "# Data Processing\n",
    "This file is going to be very important for this problem. While it is wise to preprocess, especially via data scaling, it is especially important in this case because the data is nonsense without it. Two of our three features aren't even numbers and are therefore meaningless without data processing."
   ]
  },
  {
   "cell_type": "markdown",
   "metadata": {},
   "source": [
    "# **Import Some Packages**"
   ]
  },
  {
   "cell_type": "code",
   "execution_count": 67,
   "metadata": {},
   "outputs": [],
   "source": [
    "import pandas as pd\n",
    "import numpy as np\n",
    "\n",
    "# for fixing train.csv\n",
    "import csv"
   ]
  },
  {
   "cell_type": "markdown",
   "metadata": {},
   "source": [
    "# A simple approach \n",
    "- for protein_sequence, use its length\n",
    "- for data_source, put them all into a dictionary and use its index. "
   ]
  },
  {
   "cell_type": "code",
   "execution_count": 68,
   "metadata": {},
   "outputs": [],
   "source": [
    "# when given a path: String, return a modified df: pd.DataFrame which\n",
    "from numpy import dtype\n",
    "\n",
    "\n",
    "def simple_convert(path, data_source_dict={}):\n",
    "    df = pd.read_csv(path)\n",
    "    df[\"protein_sequence\"] = df[\"protein_sequence\"].apply(lambda x: len(x), convert_dtype=int)\n",
    "    df[\"data_source\"] = df[\"data_source\"].apply(conv_datasrc, args=(data_source_dict,), convert_dtype=int)\n",
    "    return df, data_source_dict\n",
    "\n",
    "def conv_datasrc(x, dict):\n",
    "    if x not in dict:\n",
    "        dict.update({x: len(dict)})\n",
    "    return dict[x]"
   ]
  },
  {
   "cell_type": "markdown",
   "metadata": {},
   "source": [
    "# Fixing train.csv\n",
    "There are some null values for pH in about 200 of the 30,000 data samples, which are causing problems. So, we decided to make a new train.csv file with modifications"
   ]
  },
  {
   "cell_type": "code",
   "execution_count": 69,
   "metadata": {},
   "outputs": [],
   "source": [
    "tr_path = \"../data/train.csv\"\n",
    "tt_path = \"../data/test.csv\"\n",
    "mod_tr_path = \"../data/modtrain.csv\"\n",
    "mod_tt_path = \"../data/modtest.csv\""
   ]
  },
  {
   "cell_type": "code",
   "execution_count": 70,
   "metadata": {},
   "outputs": [],
   "source": [
    "#Read in Data, modifiying it as we go\n",
    "def fix_csv(file, newFile):\n",
    "  rows = []\n",
    "  with open(file, newline='') as csvfile:\n",
    "    reader = csv.reader(csvfile)\n",
    "    i = -1\n",
    "    for row in reader:\n",
    "      if i == -1:\n",
    "        rows.append(row)\n",
    "        i  = 0\n",
    "        continue\n",
    "      if i == 0 :\n",
    "        i = int(row[0])\n",
    "      elif row[2] == \"\":\n",
    "        continue\n",
    "      row[0] = str(i)\n",
    "      rows.append(row)\n",
    "      i += 1\n",
    "\n",
    "\n",
    "  #Write the Data to File\n",
    "  with open(newFile, 'w', newline='') as csvfile:\n",
    "    writer = csv.writer(csvfile)\n",
    "    writer.writerows(rows)\n",
    "  print(\"saved file to \", mod_tr_path)"
   ]
  },
  {
   "cell_type": "code",
   "execution_count": 71,
   "metadata": {},
   "outputs": [
    {
     "name": "stdout",
     "output_type": "stream",
     "text": [
      "saved file to  ../data/modtrain.csv\n",
      "saved file to  ../data/modtrain.csv\n"
     ]
    }
   ],
   "source": [
    "fix_csv(tr_path, mod_tr_path)\n",
    "fix_csv(tt_path, mod_tt_path)"
   ]
  }
 ],
 "metadata": {
  "kernelspec": {
   "display_name": "Python 3.7.9 64-bit",
   "language": "python",
   "name": "python3"
  },
  "language_info": {
   "codemirror_mode": {
    "name": "ipython",
    "version": 3
   },
   "file_extension": ".py",
   "mimetype": "text/x-python",
   "name": "python",
   "nbconvert_exporter": "python",
   "pygments_lexer": "ipython3",
   "version": "3.7.9"
  },
  "orig_nbformat": 4,
  "vscode": {
   "interpreter": {
    "hash": "abc8709615b5f81fced745e59133b05a7ce14864da8ef4169d80ff831846d0e8"
   }
  }
 },
 "nbformat": 4,
 "nbformat_minor": 2
}
