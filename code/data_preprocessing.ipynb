{
 "cells": [
  {
   "cell_type": "markdown",
   "metadata": {},
   "source": [
    "# Data Processing\n",
    "This file is going to be very important for this problem. While it is wise to preprocess, especially via data scaling, it is especially important in this case because the data is nonsense without it. Two of our three features aren't even numbers and are therefore meaningless without data processing."
   ]
  },
  {
   "cell_type": "markdown",
   "metadata": {},
   "source": [
    "# **Import Some Packages**"
   ]
  },
  {
   "cell_type": "code",
   "execution_count": 65,
   "metadata": {},
   "outputs": [],
   "source": [
    "import pandas as pd\n",
    "import numpy as np\n",
    "\n",
    "# for fixing train.csv\n",
    "import csv"
   ]
  },
  {
   "cell_type": "markdown",
   "metadata": {},
   "source": [
    "# Defining some variables"
   ]
  },
  {
   "cell_type": "code",
   "execution_count": 66,
   "metadata": {},
   "outputs": [],
   "source": [
    "tr_path = \"../data/updated_train.csv\"\n",
    "old_tr_path = \"../data/updated_train_nullpH.csv\"\n",
    "tt_path = \"../data/test.csv\""
   ]
  },
  {
   "cell_type": "markdown",
   "metadata": {},
   "source": [
    "# A simple approach \n",
    "- for protein_sequence, use its length\n",
    "- for data_source, put them all into a dictionary and use its index. "
   ]
  },
  {
   "cell_type": "code",
   "execution_count": 67,
   "metadata": {},
   "outputs": [],
   "source": [
    "# when given a path: String, return a modified df: pd.DataFrame which\n",
    "from numpy import dtype\n",
    "\n",
    "\n",
    "def simple_convert(path):\n",
    "    df = pd.read_csv(path, index_col=False)\n",
    "    df.drop(columns=[\"pH\", \"data_source\"])\n",
    "    df['protein_sequence'] = df['protein_sequence'].apply(convToList)\n",
    "    return df\n",
    "    \n",
    "def convToList(x):\n",
    "    str = \"\"\n",
    "    for i in range(len(x)):\n",
    "        if i == len(x) - 1:\n",
    "            str += f\"{ord(x[i])}\"\n",
    "        else:\n",
    "            str += f\"{ord(x[i])}-\"\n",
    "    return str\n"
   ]
  },
  {
   "cell_type": "code",
   "execution_count": 68,
   "metadata": {},
   "outputs": [
    {
     "name": "stdout",
     "output_type": "stream",
     "text": [
      "       seq_id                                   protein_sequence   pH  \\\n",
      "0           0  65-65-65-65-75-65-65-65-76-65-76-76-71-69-65-8...  7.0   \n",
      "1           1  65-65-65-68-71-69-80-76-72-78-69-69-69-82-65-7...  7.0   \n",
      "2           2  65-65-65-70-83-84-80-82-65-84-83-89-82-73-76-8...  7.0   \n",
      "3           3  65-65-65-83-71-76-82-84-65-73-80-65-81-80-76-8...  7.0   \n",
      "4           4  65-65-65-84-75-83-71-80-82-82-81-83-81-71-65-8...  7.0   \n",
      "...       ...                                                ...  ...   \n",
      "28690   28690  89-89-77-89-83-71-71-71-83-65-76-65-65-71-71-7...  7.0   \n",
      "28691   28691  89-89-78-68-81-72-82-76-83-83-89-83-86-69-84-6...  7.0   \n",
      "28692   28692  89-89-81-82-84-76-71-65-69-76-76-89-75-73-83-7...  7.0   \n",
      "28693   28693  89-89-83-70-83-68-78-73-84-84-86-70-76-83-82-8...  7.0   \n",
      "28694   28694  89-89-86-80-68-69-89-87-81-83-76-69-86-65-72-7...  7.0   \n",
      "\n",
      "                             data_source    tm  \n",
      "0      doi.org/10.1038/s41592-020-0801-4  75.7  \n",
      "1      doi.org/10.1038/s41592-020-0801-4  50.5  \n",
      "2      doi.org/10.1038/s41592-020-0801-4  40.5  \n",
      "3      doi.org/10.1038/s41592-020-0801-4  47.2  \n",
      "4      doi.org/10.1038/s41592-020-0801-4  49.5  \n",
      "...                                  ...   ...  \n",
      "28690  doi.org/10.1038/s41592-020-0801-4  51.8  \n",
      "28691  doi.org/10.1038/s41592-020-0801-4  37.2  \n",
      "28692  doi.org/10.1038/s41592-020-0801-4  64.6  \n",
      "28693  doi.org/10.1038/s41592-020-0801-4  50.7  \n",
      "28694  doi.org/10.1038/s41592-020-0801-4  37.6  \n",
      "\n",
      "[28695 rows x 5 columns]\n"
     ]
    }
   ],
   "source": [
    "df_train = simple_convert(tr_path)\n",
    "print(df_train)"
   ]
  },
  {
   "cell_type": "markdown",
   "metadata": {},
   "source": [
    "# A better approach \n",
    "- for protein_sequence, use the information in wildtype_structure_prediction_af2.pdb\n",
    "- for data_source, put them all into a dictionary and use its index. "
   ]
  },
  {
   "cell_type": "code",
   "execution_count": 69,
   "metadata": {},
   "outputs": [],
   "source": [
    "# def better_convert(path):\n",
    "#     df = pd.read_csv(path)\n",
    "#     df[\"protein_sequence\"] = df[\"protein_sequence\"].apply(lambda x: len(x), convert_dtype=int)\n",
    "#     df[\"data_source\"] = df[\"data_source\"].apply(conv_datasrc, args=(data_source_dict,), convert_dtype=int)\n",
    "#     return df"
   ]
  },
  {
   "cell_type": "markdown",
   "metadata": {},
   "source": [
    "# Fixing train.csv\n",
    "There are some null values for pH in about 200 of the 30,000 data samples, which are causing problems. So, we decided to make a new train.csv file with modifications"
   ]
  },
  {
   "cell_type": "code",
   "execution_count": 70,
   "metadata": {},
   "outputs": [],
   "source": [
    "# Read in Data, modifiying it as we go\n",
    "def remove_nullpH(file, newFile):\n",
    "  rows = []\n",
    "  with open(file, newline='') as csvfile:\n",
    "    reader = csv.reader(csvfile)\n",
    "    i = -1\n",
    "    for row in reader:\n",
    "      if i == -1:\n",
    "        rows.append(row)\n",
    "        i  = 0\n",
    "        continue\n",
    "      if i == 0 :\n",
    "        i = int(row[0])\n",
    "      elif row[2] == \"\":\n",
    "        continue\n",
    "      row[0] = str(i)\n",
    "      rows.append(row)\n",
    "      i += 1\n",
    "\n",
    "\n",
    "  #Write the Data to File\n",
    "  with open(newFile, 'w', newline='') as csvfile:\n",
    "    writer = csv.writer(csvfile)\n",
    "    writer.writerows(rows)\n",
    "  print(\"saved file to \", tr_path)"
   ]
  },
  {
   "cell_type": "code",
   "execution_count": 71,
   "metadata": {},
   "outputs": [
    {
     "name": "stdout",
     "output_type": "stream",
     "text": [
      "saved file to  ../data/updated_train.csv\n"
     ]
    }
   ],
   "source": [
    "remove_nullpH(old_tr_path, tr_path)"
   ]
  }
 ],
 "metadata": {
  "kernelspec": {
   "display_name": "Python 3.7.9 64-bit",
   "language": "python",
   "name": "python3"
  },
  "language_info": {
   "codemirror_mode": {
    "name": "ipython",
    "version": 3
   },
   "file_extension": ".py",
   "mimetype": "text/x-python",
   "name": "python",
   "nbconvert_exporter": "python",
   "pygments_lexer": "ipython3",
   "version": "3.7.9"
  },
  "orig_nbformat": 4,
  "vscode": {
   "interpreter": {
    "hash": "abc8709615b5f81fced745e59133b05a7ce14864da8ef4169d80ff831846d0e8"
   }
  }
 },
 "nbformat": 4,
 "nbformat_minor": 2
}
